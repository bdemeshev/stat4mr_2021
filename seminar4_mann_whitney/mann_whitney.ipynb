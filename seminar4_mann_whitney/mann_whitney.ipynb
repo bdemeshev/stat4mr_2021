{
 "cells": [
  {
   "cell_type": "code",
   "execution_count": 1,
   "id": "455c6c54",
   "metadata": {
    "ExecuteTime": {
     "end_time": "2021-10-02T12:20:24.038166Z",
     "start_time": "2021-10-02T12:20:24.032320Z"
    }
   },
   "outputs": [],
   "source": [
    "import numpy as np"
   ]
  },
  {
   "cell_type": "code",
   "execution_count": 2,
   "id": "433b33cc",
   "metadata": {
    "ExecuteTime": {
     "end_time": "2021-10-02T12:20:35.937841Z",
     "start_time": "2021-10-02T12:20:35.935710Z"
    }
   },
   "outputs": [],
   "source": [
    "import numpy.random as npr"
   ]
  },
  {
   "cell_type": "code",
   "execution_count": 4,
   "id": "b54d24ff",
   "metadata": {
    "ExecuteTime": {
     "end_time": "2021-10-02T12:22:02.341810Z",
     "start_time": "2021-10-02T12:22:02.339417Z"
    }
   },
   "outputs": [],
   "source": [
    "n1 = 38\n",
    "n2 = 22\n",
    "sd1 = 1.11\n",
    "sd2 =1.84\n",
    "m1 = 0\n",
    "m2 = 0"
   ]
  },
  {
   "cell_type": "code",
   "execution_count": 5,
   "id": "42ab6478",
   "metadata": {
    "ExecuteTime": {
     "end_time": "2021-10-02T12:22:03.236286Z",
     "start_time": "2021-10-02T12:22:03.227227Z"
    }
   },
   "outputs": [],
   "source": [
    "x = npr.normal(m1,sd1,n1)\n",
    "y = npr.normal(m2,sd2,n2)"
   ]
  },
  {
   "cell_type": "code",
   "execution_count": 6,
   "id": "70069eed",
   "metadata": {
    "ExecuteTime": {
     "end_time": "2021-10-02T12:22:29.864561Z",
     "start_time": "2021-10-02T12:22:29.732401Z"
    }
   },
   "outputs": [],
   "source": [
    "import statsmodels.stats.weightstats as smw"
   ]
  },
  {
   "cell_type": "code",
   "execution_count": 7,
   "id": "16ad6094",
   "metadata": {
    "ExecuteTime": {
     "end_time": "2021-10-02T12:22:55.717835Z",
     "start_time": "2021-10-02T12:22:55.690496Z"
    }
   },
   "outputs": [
    {
     "data": {
      "text/plain": [
       "(0.346392712692095, 0.7303011178044018, 58.0)"
      ]
     },
     "execution_count": 7,
     "metadata": {},
     "output_type": "execute_result"
    }
   ],
   "source": [
    "smw.ttest_ind(x,y,usevar='pooled')"
   ]
  },
  {
   "cell_type": "code",
   "execution_count": 8,
   "id": "8ab36636",
   "metadata": {
    "ExecuteTime": {
     "end_time": "2021-10-02T12:23:09.716681Z",
     "start_time": "2021-10-02T12:23:09.713464Z"
    }
   },
   "outputs": [
    {
     "data": {
      "text/plain": [
       "(0.30928062550441976, 0.7591618164178463, 31.235487049110514)"
      ]
     },
     "execution_count": 8,
     "metadata": {},
     "output_type": "execute_result"
    }
   ],
   "source": [
    "smw.ttest_ind(x,y,usevar='unequal')"
   ]
  },
  {
   "cell_type": "code",
   "execution_count": 10,
   "id": "fb33f8de",
   "metadata": {
    "ExecuteTime": {
     "end_time": "2021-10-02T12:23:53.139129Z",
     "start_time": "2021-10-02T12:23:52.707525Z"
    }
   },
   "outputs": [],
   "source": [
    "import pingouin as pg"
   ]
  },
  {
   "cell_type": "code",
   "execution_count": 12,
   "id": "37b0e83c",
   "metadata": {
    "ExecuteTime": {
     "end_time": "2021-10-02T12:24:26.691657Z",
     "start_time": "2021-10-02T12:24:26.671772Z"
    }
   },
   "outputs": [
    {
     "data": {
      "text/html": [
       "<div>\n",
       "<style scoped>\n",
       "    .dataframe tbody tr th:only-of-type {\n",
       "        vertical-align: middle;\n",
       "    }\n",
       "\n",
       "    .dataframe tbody tr th {\n",
       "        vertical-align: top;\n",
       "    }\n",
       "\n",
       "    .dataframe thead th {\n",
       "        text-align: right;\n",
       "    }\n",
       "</style>\n",
       "<table border=\"1\" class=\"dataframe\">\n",
       "  <thead>\n",
       "    <tr style=\"text-align: right;\">\n",
       "      <th></th>\n",
       "      <th>U-val</th>\n",
       "      <th>alternative</th>\n",
       "      <th>p-val</th>\n",
       "      <th>RBC</th>\n",
       "      <th>CLES</th>\n",
       "    </tr>\n",
       "  </thead>\n",
       "  <tbody>\n",
       "    <tr>\n",
       "      <th>MWU</th>\n",
       "      <td>485.0</td>\n",
       "      <td>two-sided</td>\n",
       "      <td>0.307679</td>\n",
       "      <td>-0.160287</td>\n",
       "      <td>0.580144</td>\n",
       "    </tr>\n",
       "  </tbody>\n",
       "</table>\n",
       "</div>"
      ],
      "text/plain": [
       "     U-val alternative     p-val       RBC      CLES\n",
       "MWU  485.0   two-sided  0.307679 -0.160287  0.580144"
      ]
     },
     "execution_count": 12,
     "metadata": {},
     "output_type": "execute_result"
    }
   ],
   "source": [
    "pg.mwu(x,y)"
   ]
  },
  {
   "cell_type": "code",
   "execution_count": 14,
   "id": "d10fc35a",
   "metadata": {
    "ExecuteTime": {
     "end_time": "2021-10-02T12:24:50.667383Z",
     "start_time": "2021-10-02T12:24:50.452393Z"
    }
   },
   "outputs": [
    {
     "data": {
      "text/html": [
       "<div>\n",
       "<style scoped>\n",
       "    .dataframe tbody tr th:only-of-type {\n",
       "        vertical-align: middle;\n",
       "    }\n",
       "\n",
       "    .dataframe tbody tr th {\n",
       "        vertical-align: top;\n",
       "    }\n",
       "\n",
       "    .dataframe thead th {\n",
       "        text-align: right;\n",
       "    }\n",
       "</style>\n",
       "<table border=\"1\" class=\"dataframe\">\n",
       "  <thead>\n",
       "    <tr style=\"text-align: right;\">\n",
       "      <th></th>\n",
       "      <th>U-val</th>\n",
       "      <th>alternative</th>\n",
       "      <th>p-val</th>\n",
       "      <th>RBC</th>\n",
       "      <th>CLES</th>\n",
       "    </tr>\n",
       "  </thead>\n",
       "  <tbody>\n",
       "    <tr>\n",
       "      <th>MWU</th>\n",
       "      <td>485.0</td>\n",
       "      <td>two-sided</td>\n",
       "      <td>0.310348</td>\n",
       "      <td>-0.160287</td>\n",
       "      <td>0.580144</td>\n",
       "    </tr>\n",
       "  </tbody>\n",
       "</table>\n",
       "</div>"
      ],
      "text/plain": [
       "     U-val alternative     p-val       RBC      CLES\n",
       "MWU  485.0   two-sided  0.310348 -0.160287  0.580144"
      ]
     },
     "execution_count": 14,
     "metadata": {},
     "output_type": "execute_result"
    }
   ],
   "source": [
    "pg.mwu(x,y, method='exact')"
   ]
  },
  {
   "cell_type": "code",
   "execution_count": 31,
   "id": "49a6f1f4",
   "metadata": {
    "ExecuteTime": {
     "end_time": "2021-10-02T12:34:02.284781Z",
     "start_time": "2021-10-02T12:34:02.282167Z"
    }
   },
   "outputs": [],
   "source": [
    "n1 = 38\n",
    "n2 = 22\n",
    "sd1 = 1.11\n",
    "sd2 =1.84\n",
    "m1 = 0\n",
    "m2 = 0"
   ]
  },
  {
   "cell_type": "code",
   "execution_count": 32,
   "id": "f9129e2c",
   "metadata": {
    "ExecuteTime": {
     "end_time": "2021-10-02T12:34:04.631185Z",
     "start_time": "2021-10-02T12:34:03.183655Z"
    }
   },
   "outputs": [],
   "source": [
    "p1 = [] # t test\n",
    "p2 = [] # Welch\n",
    "p3 = [] # MW\n",
    "nSims = 1000\n",
    "for i in range(nSims):\n",
    "    x = npr.normal(m1,sd1,n1)\n",
    "    y = npr.normal(m2,sd2,n2)\n",
    "    p1.append(smw.ttest_ind(x,y,usevar='pooled')[1])\n",
    "    p2.append(smw.ttest_ind(x,y,usevar='unequal')[1])\n",
    "    p3.append(pg.mwu(x,y, method='exact').iloc[0,2])"
   ]
  },
  {
   "cell_type": "code",
   "execution_count": 17,
   "id": "f3dd79c1",
   "metadata": {
    "ExecuteTime": {
     "end_time": "2021-10-02T12:29:40.238489Z",
     "start_time": "2021-10-02T12:29:40.231270Z"
    }
   },
   "outputs": [],
   "source": [
    "import matplotlib.pyplot as plt"
   ]
  },
  {
   "cell_type": "code",
   "execution_count": 23,
   "id": "34fe64fb",
   "metadata": {
    "ExecuteTime": {
     "end_time": "2021-10-02T12:31:44.171821Z",
     "start_time": "2021-10-02T12:31:44.065777Z"
    }
   },
   "outputs": [
    {
     "data": {
      "image/png": "[encoded data removed]",
      "text/plain": [
       "<Figure size 432x288 with 1 Axes>"
      ]
     },
     "metadata": {
      "needs_background": "light"
     },
     "output_type": "display_data"
    }
   ],
   "source": [
    "plt.hist(p1);"
   ]
  },
  {
   "cell_type": "code",
   "execution_count": 24,
   "id": "008613b9",
   "metadata": {
    "ExecuteTime": {
     "end_time": "2021-10-02T12:31:44.448788Z",
     "start_time": "2021-10-02T12:31:44.346183Z"
    }
   },
   "outputs": [
    {
     "data": {
      "image/png": "[encoded data removed]",
      "text/plain": [
       "<Figure size 432x288 with 1 Axes>"
      ]
     },
     "metadata": {
      "needs_background": "light"
     },
     "output_type": "display_data"
    }
   ],
   "source": [
    "plt.hist(p2);"
   ]
  },
  {
   "cell_type": "code",
   "execution_count": 25,
   "id": "c94eb6f6",
   "metadata": {
    "ExecuteTime": {
     "end_time": "2021-10-02T12:31:44.872315Z",
     "start_time": "2021-10-02T12:31:44.764496Z"
    }
   },
   "outputs": [
    {
     "data": {
      "image/png": "[encoded data removed]",
      "text/plain": [
       "<Figure size 432x288 with 1 Axes>"
      ]
     },
     "metadata": {
      "needs_background": "light"
     },
     "output_type": "display_data"
    }
   ],
   "source": [
    "plt.hist(p3);"
   ]
  },
  {
   "cell_type": "code",
   "execution_count": 27,
   "id": "9056e181",
   "metadata": {
    "ExecuteTime": {
     "end_time": "2021-10-02T12:32:38.158708Z",
     "start_time": "2021-10-02T12:32:38.153757Z"
    }
   },
   "outputs": [
    {
     "data": {
      "text/plain": [
       "8.3"
      ]
     },
     "execution_count": 27,
     "metadata": {},
     "output_type": "execute_result"
    }
   ],
   "source": [
    "errorrate = sum(np.array(p1)<0.05)/nSims * 100\n",
    "errorrate"
   ]
  },
  {
   "cell_type": "code",
   "execution_count": 29,
   "id": "2d9e81e2",
   "metadata": {
    "ExecuteTime": {
     "end_time": "2021-10-02T12:33:37.049672Z",
     "start_time": "2021-10-02T12:33:37.041600Z"
    }
   },
   "outputs": [
    {
     "data": {
      "text/plain": [
       "5.1"
      ]
     },
     "execution_count": 29,
     "metadata": {},
     "output_type": "execute_result"
    }
   ],
   "source": [
    "errorrate = sum(np.array(p2)<0.05)/nSims * 100\n",
    "errorrate"
   ]
  },
  {
   "cell_type": "code",
   "execution_count": 30,
   "id": "c2595f55",
   "metadata": {
    "ExecuteTime": {
     "end_time": "2021-10-02T12:33:48.903950Z",
     "start_time": "2021-10-02T12:33:48.896058Z"
    }
   },
   "outputs": [
    {
     "data": {
      "text/plain": [
       "6.2"
      ]
     },
     "execution_count": 30,
     "metadata": {},
     "output_type": "execute_result"
    }
   ],
   "source": [
    "errorrate = sum(np.array(p3)<0.05)/nSims * 100\n",
    "errorrate"
   ]
  },
  {
   "cell_type": "code",
   "execution_count": 43,
   "id": "69e9a5bd",
   "metadata": {
    "ExecuteTime": {
     "end_time": "2021-10-02T12:36:55.406952Z",
     "start_time": "2021-10-02T12:36:49.187310Z"
    }
   },
   "outputs": [],
   "source": [
    "n1 = 38\n",
    "n2 = 22\n",
    "sd1 = 1.11\n",
    "sd2 =1.84\n",
    "m1 = 0\n",
    "m2 = 1\n",
    "\n",
    "pow1 = []\n",
    "pow2 = []\n",
    "pow3 = []\n",
    "\n",
    "for j in [0.1,0.5,1,2]:\n",
    "    p1 = [] # t test\n",
    "    p2 = [] # Welch\n",
    "    p3 = [] # MW\n",
    "    nSims = 1000\n",
    "    m1 = 0\n",
    "    m2 = j\n",
    "    for i in range(nSims):\n",
    "        x = npr.normal(m1,sd1,n1)\n",
    "        y = npr.normal(m2,sd2,n2)\n",
    "        p1.append(smw.ttest_ind(x,y,usevar='pooled')[1])\n",
    "        p2.append(smw.ttest_ind(x,y,usevar='unequal')[1])\n",
    "        p3.append(pg.mwu(x,y, method='exact').iloc[0,2])\n",
    "        \n",
    "    pow1.append(sum(np.array(p1)<0.05)/nSims * 100)\n",
    "    pow2.append(sum(np.array(p2)<0.05)/nSims * 100)\n",
    "    pow3.append(sum(np.array(p3)<0.05)/nSims * 100)"
   ]
  },
  {
   "cell_type": "code",
   "execution_count": 40,
   "id": "02d35346",
   "metadata": {
    "ExecuteTime": {
     "end_time": "2021-10-02T12:34:58.767871Z",
     "start_time": "2021-10-02T12:34:58.763033Z"
    }
   },
   "outputs": [
    {
     "data": {
      "text/plain": [
       "72.6"
      ]
     },
     "execution_count": 40,
     "metadata": {},
     "output_type": "execute_result"
    }
   ],
   "source": [
    "power = sum(np.array(p1)<0.05)/nSims * 100\n",
    "power"
   ]
  },
  {
   "cell_type": "code",
   "execution_count": 41,
   "id": "5c843196",
   "metadata": {
    "ExecuteTime": {
     "end_time": "2021-10-02T12:35:00.107597Z",
     "start_time": "2021-10-02T12:35:00.091050Z"
    }
   },
   "outputs": [
    {
     "data": {
      "text/plain": [
       "63.2"
      ]
     },
     "execution_count": 41,
     "metadata": {},
     "output_type": "execute_result"
    }
   ],
   "source": [
    "power = sum(np.array(p2)<0.05)/nSims * 100\n",
    "power"
   ]
  },
  {
   "cell_type": "code",
   "execution_count": 42,
   "id": "df5ff6a7",
   "metadata": {
    "ExecuteTime": {
     "end_time": "2021-10-02T12:35:01.370988Z",
     "start_time": "2021-10-02T12:35:01.356561Z"
    }
   },
   "outputs": [
    {
     "data": {
      "text/plain": [
       "66.10000000000001"
      ]
     },
     "execution_count": 42,
     "metadata": {},
     "output_type": "execute_result"
    }
   ],
   "source": [
    "power = sum(np.array(p3)<0.05)/nSims * 100\n",
    "power"
   ]
  },
  {
   "cell_type": "code",
   "execution_count": 44,
   "id": "7ddda875",
   "metadata": {
    "ExecuteTime": {
     "end_time": "2021-10-02T12:37:21.816885Z",
     "start_time": "2021-10-02T12:37:21.813016Z"
    }
   },
   "outputs": [],
   "source": [
    "import pandas as pd"
   ]
  },
  {
   "cell_type": "code",
   "execution_count": null,
   "id": "209b42d8",
   "metadata": {
    "ExecuteTime": {
     "end_time": "2021-10-02T12:43:21.917707Z",
     "start_time": "2021-10-02T12:43:21.893215Z"
    }
   },
   "outputs": [],
   "source": []
  },
  {
   "cell_type": "code",
   "execution_count": 55,
   "id": "e9f4217a",
   "metadata": {
    "ExecuteTime": {
     "end_time": "2021-10-02T12:40:17.089169Z",
     "start_time": "2021-10-02T12:40:16.988267Z"
    }
   },
   "outputs": [
    {
     "data": {
      "text/plain": [
       "<matplotlib.legend.Legend at 0x7fa72221f220>"
      ]
     },
     "execution_count": 55,
     "metadata": {},
     "output_type": "execute_result"
    },
    {
     "data": {
      "image/png": "[encoded data removed]",
      "text/plain": [
       "<Figure size 432x288 with 1 Axes>"
      ]
     },
     "metadata": {
      "needs_background": "light"
     },
     "output_type": "display_data"
    }
   ],
   "source": [
    "plt.plot(pd.DataFrame([pow1,pow2,pow3]).T);\n",
    "plt.legend([1,2,3])\n",
    "# plt.xticks([0.1,0.5,1,2])"
   ]
  },
  {
   "cell_type": "code",
   "execution_count": 69,
   "id": "878949fb",
   "metadata": {
    "ExecuteTime": {
     "end_time": "2021-10-02T12:47:15.105545Z",
     "start_time": "2021-10-02T12:47:09.169841Z"
    }
   },
   "outputs": [],
   "source": [
    "n1 = 38\n",
    "n2 = 22\n",
    "sd1 = 1.11\n",
    "sd2 =1.84\n",
    "m1 = 0\n",
    "m2 = 1\n",
    "\n",
    "pow1 = []\n",
    "pow2 = []\n",
    "pow3 = []\n",
    "\n",
    "for j in [5,10,30,50]:\n",
    "    p1 = [] # t test\n",
    "    p2 = [] # Welch\n",
    "    p3 = [] # MW\n",
    "    nSims = 1000\n",
    "    m1 = 0\n",
    "    m2 = 1\n",
    "    for i in range(nSims):\n",
    "        x = npr.normal(m1,sd1,j)\n",
    "        y = npr.normal(m2,sd2,j)\n",
    "        p1.append(smw.ttest_ind(x,y,usevar='pooled')[1])\n",
    "        p2.append(smw.ttest_ind(x,y,usevar='unequal')[1])\n",
    "        p3.append(pg.mwu(x,y, method='exact').iloc[0,2])\n",
    "        \n",
    "    pow1.append(sum(np.array(p1)<0.05)/nSims * 100)\n",
    "    pow2.append(sum(np.array(p2)<0.05)/nSims * 100)\n",
    "    pow3.append(sum(np.array(p3)<0.05)/nSims * 100)"
   ]
  },
  {
   "cell_type": "code",
   "execution_count": 70,
   "id": "85ce0c69",
   "metadata": {
    "ExecuteTime": {
     "end_time": "2021-10-02T12:47:20.221277Z",
     "start_time": "2021-10-02T12:47:20.212269Z"
    }
   },
   "outputs": [],
   "source": [
    "pd1 = pd.DataFrame([pow1,pow2,pow3]).T\n",
    "pd1.index = [5,10,30,50]"
   ]
  },
  {
   "cell_type": "code",
   "execution_count": 71,
   "id": "db1ff3cc",
   "metadata": {
    "ExecuteTime": {
     "end_time": "2021-10-02T12:47:21.105696Z",
     "start_time": "2021-10-02T12:47:21.082570Z"
    }
   },
   "outputs": [
    {
     "data": {
      "text/html": [
       "<div>\n",
       "<style scoped>\n",
       "    .dataframe tbody tr th:only-of-type {\n",
       "        vertical-align: middle;\n",
       "    }\n",
       "\n",
       "    .dataframe tbody tr th {\n",
       "        vertical-align: top;\n",
       "    }\n",
       "\n",
       "    .dataframe thead th {\n",
       "        text-align: right;\n",
       "    }\n",
       "</style>\n",
       "<table border=\"1\" class=\"dataframe\">\n",
       "  <thead>\n",
       "    <tr style=\"text-align: right;\">\n",
       "      <th></th>\n",
       "      <th>0</th>\n",
       "      <th>1</th>\n",
       "      <th>2</th>\n",
       "    </tr>\n",
       "  </thead>\n",
       "  <tbody>\n",
       "    <tr>\n",
       "      <th>5</th>\n",
       "      <td>15.3</td>\n",
       "      <td>13.1</td>\n",
       "      <td>10.4</td>\n",
       "    </tr>\n",
       "    <tr>\n",
       "      <th>10</th>\n",
       "      <td>29.2</td>\n",
       "      <td>28.4</td>\n",
       "      <td>26.0</td>\n",
       "    </tr>\n",
       "    <tr>\n",
       "      <th>30</th>\n",
       "      <td>70.5</td>\n",
       "      <td>70.1</td>\n",
       "      <td>67.7</td>\n",
       "    </tr>\n",
       "    <tr>\n",
       "      <th>50</th>\n",
       "      <td>91.1</td>\n",
       "      <td>91.1</td>\n",
       "      <td>89.0</td>\n",
       "    </tr>\n",
       "  </tbody>\n",
       "</table>\n",
       "</div>"
      ],
      "text/plain": [
       "       0     1     2\n",
       "5   15.3  13.1  10.4\n",
       "10  29.2  28.4  26.0\n",
       "30  70.5  70.1  67.7\n",
       "50  91.1  91.1  89.0"
      ]
     },
     "execution_count": 71,
     "metadata": {},
     "output_type": "execute_result"
    }
   ],
   "source": [
    "pd1"
   ]
  },
  {
   "cell_type": "code",
   "execution_count": 72,
   "id": "10f35761",
   "metadata": {
    "ExecuteTime": {
     "end_time": "2021-10-02T12:47:23.663176Z",
     "start_time": "2021-10-02T12:47:23.549493Z"
    }
   },
   "outputs": [
    {
     "data": {
      "text/plain": [
       "<matplotlib.legend.Legend at 0x7fa72080df70>"
      ]
     },
     "execution_count": 72,
     "metadata": {},
     "output_type": "execute_result"
    },
    {
     "data": {
      "image/png": "[encoded data removed]",
      "text/plain": [
       "<Figure size 432x288 with 1 Axes>"
      ]
     },
     "metadata": {
      "needs_background": "light"
     },
     "output_type": "display_data"
    }
   ],
   "source": [
    "plt.plot(pd1);\n",
    "plt.legend([1,2,3])\n",
    "# plt.xticks([0.1,0.5,1,2])"
   ]
  },
  {
   "cell_type": "code",
   "execution_count": 73,
   "id": "1ce4c753",
   "metadata": {
    "ExecuteTime": {
     "end_time": "2021-10-02T12:48:15.342656Z",
     "start_time": "2021-10-02T12:48:09.637815Z"
    }
   },
   "outputs": [],
   "source": [
    "n1 = 38\n",
    "n2 = 22\n",
    "sd1 = 1.11\n",
    "sd2 =1.84\n",
    "m1 = 0\n",
    "m2 = 1\n",
    "\n",
    "pow1 = []\n",
    "pow2 = []\n",
    "pow3 = []\n",
    "\n",
    "for j in [5,10,30,50]:\n",
    "    p1 = [] # t test\n",
    "    p2 = [] # Welch\n",
    "    p3 = [] # MW\n",
    "    nSims = 1000\n",
    "#     m1 = 0\n",
    "#     m2 = 1\n",
    "    for i in range(nSims):\n",
    "        x = npr.exponential(1,j)\n",
    "        y = npr.exponential(5,j)\n",
    "        p1.append(smw.ttest_ind(x,y,usevar='pooled')[1])\n",
    "        p2.append(smw.ttest_ind(x,y,usevar='unequal')[1])\n",
    "        p3.append(pg.mwu(x,y, method='exact').iloc[0,2])\n",
    "        \n",
    "    pow1.append(sum(np.array(p1)<0.05)/nSims * 100)\n",
    "    pow2.append(sum(np.array(p2)<0.05)/nSims * 100)\n",
    "    pow3.append(sum(np.array(p3)<0.05)/nSims * 100)"
   ]
  },
  {
   "cell_type": "code",
   "execution_count": 74,
   "id": "365c9249",
   "metadata": {
    "ExecuteTime": {
     "end_time": "2021-10-02T12:48:19.506339Z",
     "start_time": "2021-10-02T12:48:19.496531Z"
    }
   },
   "outputs": [],
   "source": [
    "pd1 = pd.DataFrame([pow1,pow2,pow3]).T\n",
    "pd1.index = [5,10,30,50]"
   ]
  },
  {
   "cell_type": "code",
   "execution_count": 75,
   "id": "102b2359",
   "metadata": {
    "ExecuteTime": {
     "end_time": "2021-10-02T12:48:29.514715Z",
     "start_time": "2021-10-02T12:48:29.403754Z"
    }
   },
   "outputs": [
    {
     "data": {
      "text/plain": [
       "<matplotlib.legend.Legend at 0x7fa72057c070>"
      ]
     },
     "execution_count": 75,
     "metadata": {},
     "output_type": "execute_result"
    },
    {
     "data": {
      "image/png": "[encoded data removed]",
      "text/plain": [
       "<Figure size 432x288 with 1 Axes>"
      ]
     },
     "metadata": {
      "needs_background": "light"
     },
     "output_type": "display_data"
    }
   ],
   "source": [
    "plt.plot(pd1);\n",
    "plt.legend([1,2,3])\n",
    "# plt.xticks([0.1,0.5,1,2])"
   ]
  },
  {
   "cell_type": "code",
   "execution_count": 76,
   "id": "2bf0a80a",
   "metadata": {
    "ExecuteTime": {
     "end_time": "2021-10-02T12:50:32.480728Z",
     "start_time": "2021-10-02T12:50:26.449067Z"
    }
   },
   "outputs": [],
   "source": [
    "n1 = 38\n",
    "n2 = 22\n",
    "sd1 = 1.11\n",
    "sd2 =1.84\n",
    "m1 = 0\n",
    "m2 = 1\n",
    "\n",
    "pow1 = []\n",
    "pow2 = []\n",
    "pow3 = []\n",
    "\n",
    "for j in [5,10,30,50]:\n",
    "    p1 = [] # t test\n",
    "    p2 = [] # Welch\n",
    "    p3 = [] # MW\n",
    "    nSims = 1000\n",
    "#     m1 = 0\n",
    "#     m2 = 1\n",
    "    for i in range(nSims):\n",
    "        x = npr.uniform(0,1,j)\n",
    "        y = npr.uniform(0.2,1.2,j)\n",
    "        p1.append(smw.ttest_ind(x,y,usevar='pooled')[1])\n",
    "        p2.append(smw.ttest_ind(x,y,usevar='unequal')[1])\n",
    "        p3.append(pg.mwu(x,y, method='exact').iloc[0,2])\n",
    "        \n",
    "    pow1.append(sum(np.array(p1)<0.05)/nSims * 100)\n",
    "    pow2.append(sum(np.array(p2)<0.05)/nSims * 100)\n",
    "    pow3.append(sum(np.array(p3)<0.05)/nSims * 100)"
   ]
  },
  {
   "cell_type": "code",
   "execution_count": 77,
   "id": "66f92bc0",
   "metadata": {
    "ExecuteTime": {
     "end_time": "2021-10-02T12:50:32.509416Z",
     "start_time": "2021-10-02T12:50:32.506456Z"
    }
   },
   "outputs": [],
   "source": [
    "pd1 = pd.DataFrame([pow1,pow2,pow3]).T\n",
    "pd1.index = [5,10,30,50]"
   ]
  },
  {
   "cell_type": "code",
   "execution_count": 78,
   "id": "5392286d",
   "metadata": {
    "ExecuteTime": {
     "end_time": "2021-10-02T12:50:32.663105Z",
     "start_time": "2021-10-02T12:50:32.541784Z"
    }
   },
   "outputs": [
    {
     "data": {
      "text/plain": [
       "<matplotlib.legend.Legend at 0x7fa720b503a0>"
      ]
     },
     "execution_count": 78,
     "metadata": {},
     "output_type": "execute_result"
    },
    {
     "data": {
      "image/png": "[encoded data removed]",
      "text/plain": [
       "<Figure size 432x288 with 1 Axes>"
      ]
     },
     "metadata": {
      "needs_background": "light"
     },
     "output_type": "display_data"
    }
   ],
   "source": [
    "plt.plot(pd1);\n",
    "plt.legend([1,2,3])\n",
    "# plt.xticks([0.1,0.5,1,2])"
   ]
  },
  {
   "cell_type": "code",
   "execution_count": 79,
   "id": "6c909310",
   "metadata": {
    "ExecuteTime": {
     "end_time": "2021-10-02T12:53:21.271085Z",
     "start_time": "2021-10-02T12:53:15.291968Z"
    }
   },
   "outputs": [],
   "source": [
    "n1 = 38\n",
    "n2 = 22\n",
    "sd1 = 1.11\n",
    "sd2 =1.84\n",
    "m1 = 0\n",
    "m2 = 1\n",
    "\n",
    "pow1 = []\n",
    "pow2 = []\n",
    "pow3 = []\n",
    "\n",
    "for j in [5,10,30,50]:\n",
    "    p1 = [] # t test\n",
    "    p2 = [] # Welch\n",
    "    p3 = [] # MW\n",
    "    nSims = 1000\n",
    "#     m1 = 0\n",
    "#     m2 = 1\n",
    "    for i in range(nSims):\n",
    "        x = npr.uniform(0,1,j)\n",
    "        x[4] = 13\n",
    "        y = npr.uniform(0.2,1.2,j)\n",
    "        y[2] = -2\n",
    "        p1.append(smw.ttest_ind(x,y,usevar='pooled')[1])\n",
    "        p2.append(smw.ttest_ind(x,y,usevar='unequal')[1])\n",
    "        p3.append(pg.mwu(x,y, method='exact').iloc[0,2])\n",
    "        \n",
    "    pow1.append(sum(np.array(p1)<0.05)/nSims * 100)\n",
    "    pow2.append(sum(np.array(p2)<0.05)/nSims * 100)\n",
    "    pow3.append(sum(np.array(p3)<0.05)/nSims * 100)"
   ]
  },
  {
   "cell_type": "code",
   "execution_count": 83,
   "id": "0785c04b",
   "metadata": {
    "ExecuteTime": {
     "end_time": "2021-10-02T12:54:39.277400Z",
     "start_time": "2021-10-02T12:54:39.275726Z"
    }
   },
   "outputs": [],
   "source": [
    "# p1"
   ]
  },
  {
   "cell_type": "code",
   "execution_count": 80,
   "id": "1a83d53f",
   "metadata": {
    "ExecuteTime": {
     "end_time": "2021-10-02T12:53:32.605583Z",
     "start_time": "2021-10-02T12:53:32.601613Z"
    }
   },
   "outputs": [],
   "source": [
    "pd1 = pd.DataFrame([pow1,pow2,pow3]).T\n",
    "pd1.index = [5,10,30,50]"
   ]
  },
  {
   "cell_type": "code",
   "execution_count": 81,
   "id": "f0fb3e2d",
   "metadata": {
    "ExecuteTime": {
     "end_time": "2021-10-02T12:53:35.574873Z",
     "start_time": "2021-10-02T12:53:35.436589Z"
    }
   },
   "outputs": [
    {
     "data": {
      "text/plain": [
       "<matplotlib.legend.Legend at 0x7fa720a2ebb0>"
      ]
     },
     "execution_count": 81,
     "metadata": {},
     "output_type": "execute_result"
    },
    {
     "data": {
      "image/png": "[encoded data removed]",
      "text/plain": [
       "<Figure size 432x288 with 1 Axes>"
      ]
     },
     "metadata": {
      "needs_background": "light"
     },
     "output_type": "display_data"
    }
   ],
   "source": [
    "plt.plot(pd1);\n",
    "plt.legend([1,2,3])\n",
    "# plt.xticks([0.1,0.5,1,2])"
   ]
  }
 ],
 "metadata": {
  "hide_input": false,
  "kernelspec": {
   "display_name": "Python 3",
   "language": "python",
   "name": "python3"
  },
  "language_info": {
   "codemirror_mode": {
    "name": "ipython",
    "version": 3
   },
   "file_extension": ".py",
   "mimetype": "text/x-python",
   "name": "python",
   "nbconvert_exporter": "python",
   "pygments_lexer": "ipython3",
   "version": "3.9.5"
  },
  "latex_envs": {
   "LaTeX_envs_menu_present": true,
   "autoclose": true,
   "autocomplete": true,
   "bibliofile": "biblio.bib",
   "cite_by": "apalike",
   "current_citInitial": 1,
   "eqLabelWithNumbers": true,
   "eqNumInitial": 1,
   "hotkeys": {
    "equation": "Ctrl-E",
    "itemize": "Ctrl-I"
   },
   "labels_anchors": false,
   "latex_user_defs": false,
   "report_style_numbering": false,
   "user_envs_cfg": false
  },
  "toc": {
   "base_numbering": 1,
   "nav_menu": {},
   "number_sections": true,
   "sideBar": true,
   "skip_h1_title": false,
   "title_cell": "Table of Contents",
   "title_sidebar": "Contents",
   "toc_cell": false,
   "toc_position": {},
   "toc_section_display": true,
   "toc_window_display": false
  },
  "varInspector": {
   "cols": {
    "lenName": 16,
    "lenType": 16,
    "lenVar": 40
   },
   "kernels_config": {
    "python": {
     "delete_cmd_postfix": "",
     "delete_cmd_prefix": "del ",
     "library": "var_list.py",
     "varRefreshCmd": "print(var_dic_list())"
    },
    "r": {
     "delete_cmd_postfix": ") ",
     "delete_cmd_prefix": "rm(",
     "library": "var_list.r",
     "varRefreshCmd": "cat(var_dic_list()) "
    }
   },
   "types_to_exclude": [
    "module",
    "function",
    "builtin_function_or_method",
    "instance",
    "_Feature"
   ],
   "window_display": false
  }
 },
 "nbformat": 4,
 "nbformat_minor": 5
}
