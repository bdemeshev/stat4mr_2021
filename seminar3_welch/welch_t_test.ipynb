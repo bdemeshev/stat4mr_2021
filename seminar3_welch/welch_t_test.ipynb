{
 "cells": [
  {
   "cell_type": "code",
   "execution_count": 1,
   "id": "d6070e2d",
   "metadata": {
    "ExecuteTime": {
     "end_time": "2021-09-25T12:23:23.321239Z",
     "start_time": "2021-09-25T12:23:23.318670Z"
    }
   },
   "outputs": [],
   "source": [
    "import numpy as np\n",
    "import numpy.random as npr"
   ]
  },
  {
   "cell_type": "code",
   "execution_count": 3,
   "id": "bbcce808",
   "metadata": {
    "ExecuteTime": {
     "end_time": "2021-09-25T12:24:39.399960Z",
     "start_time": "2021-09-25T12:24:39.397807Z"
    }
   },
   "outputs": [],
   "source": [
    "n1 = 38\n",
    "n2 = 22\n",
    "sd1 = 1.11\n",
    "sd2 = 1.84\n",
    "m1 = 0\n",
    "m2 = 0"
   ]
  },
  {
   "cell_type": "code",
   "execution_count": 38,
   "id": "4d5cb5fb",
   "metadata": {
    "ExecuteTime": {
     "end_time": "2021-09-25T12:54:48.138267Z",
     "start_time": "2021-09-25T12:54:48.134753Z"
    }
   },
   "outputs": [
    {
     "data": {
      "text/plain": [
       "0.0"
      ]
     },
     "execution_count": 38,
     "metadata": {},
     "output_type": "execute_result"
    }
   ],
   "source": [
    "trueD = (m2-m1)/(np.sqrt(((n1-1)*sd1**2+(n2-1)*sd1**2))/(n1+n2-2))\n",
    "trueD"
   ]
  },
  {
   "cell_type": "code",
   "execution_count": 5,
   "id": "86c39d15",
   "metadata": {
    "ExecuteTime": {
     "end_time": "2021-09-25T12:25:11.137913Z",
     "start_time": "2021-09-25T12:25:11.135240Z"
    }
   },
   "outputs": [],
   "source": [
    "sim_x1 = npr.normal(m1,sd1,n1)\n",
    "sim_x2 = npr.normal(m2,sd2,n2)"
   ]
  },
  {
   "cell_type": "code",
   "execution_count": 6,
   "id": "41da531f",
   "metadata": {
    "ExecuteTime": {
     "end_time": "2021-09-25T12:25:37.161005Z",
     "start_time": "2021-09-25T12:25:36.861582Z"
    }
   },
   "outputs": [],
   "source": [
    "import scipy.stats as sp"
   ]
  },
  {
   "cell_type": "code",
   "execution_count": 7,
   "id": "fc5c6b0c",
   "metadata": {
    "ExecuteTime": {
     "end_time": "2021-09-25T12:26:16.637282Z",
     "start_time": "2021-09-25T12:26:16.630212Z"
    }
   },
   "outputs": [
    {
     "data": {
      "text/plain": [
       "Ttest_indResult(statistic=-0.6721083328844798, pvalue=0.5041833854854809)"
      ]
     },
     "execution_count": 7,
     "metadata": {},
     "output_type": "execute_result"
    }
   ],
   "source": [
    "sp.ttest_ind(sim_x1, sim_x2, equal_var=True)"
   ]
  },
  {
   "cell_type": "code",
   "execution_count": 8,
   "id": "42c3130b",
   "metadata": {
    "ExecuteTime": {
     "end_time": "2021-09-25T12:26:25.845814Z",
     "start_time": "2021-09-25T12:26:25.840969Z"
    }
   },
   "outputs": [
    {
     "data": {
      "text/plain": [
       "Ttest_indResult(statistic=-0.617211214022796, pvalue=0.5412207316100013)"
      ]
     },
     "execution_count": 8,
     "metadata": {},
     "output_type": "execute_result"
    }
   ],
   "source": [
    "sp.ttest_ind(sim_x1, sim_x2, equal_var=False)"
   ]
  },
  {
   "cell_type": "code",
   "execution_count": 9,
   "id": "d46398d7",
   "metadata": {
    "ExecuteTime": {
     "end_time": "2021-09-25T12:27:16.613392Z",
     "start_time": "2021-09-25T12:27:15.926470Z"
    }
   },
   "outputs": [],
   "source": [
    "import pingouin as pg"
   ]
  },
  {
   "cell_type": "code",
   "execution_count": 10,
   "id": "b0fbbcb9",
   "metadata": {
    "ExecuteTime": {
     "end_time": "2021-09-25T12:27:49.420192Z",
     "start_time": "2021-09-25T12:27:49.404706Z"
    }
   },
   "outputs": [
    {
     "data": {
      "text/html": [
       "<div>\n",
       "<style scoped>\n",
       "    .dataframe tbody tr th:only-of-type {\n",
       "        vertical-align: middle;\n",
       "    }\n",
       "\n",
       "    .dataframe tbody tr th {\n",
       "        vertical-align: top;\n",
       "    }\n",
       "\n",
       "    .dataframe thead th {\n",
       "        text-align: right;\n",
       "    }\n",
       "</style>\n",
       "<table border=\"1\" class=\"dataframe\">\n",
       "  <thead>\n",
       "    <tr style=\"text-align: right;\">\n",
       "      <th></th>\n",
       "      <th>T</th>\n",
       "      <th>dof</th>\n",
       "      <th>alternative</th>\n",
       "      <th>p-val</th>\n",
       "      <th>CI95%</th>\n",
       "      <th>cohen-d</th>\n",
       "      <th>BF10</th>\n",
       "      <th>power</th>\n",
       "    </tr>\n",
       "  </thead>\n",
       "  <tbody>\n",
       "    <tr>\n",
       "      <th>T-test</th>\n",
       "      <td>-0.672108</td>\n",
       "      <td>58</td>\n",
       "      <td>two-sided</td>\n",
       "      <td>0.504183</td>\n",
       "      <td>[-0.96, 0.48]</td>\n",
       "      <td>0.180058</td>\n",
       "      <td>0.326</td>\n",
       "      <td>0.101368</td>\n",
       "    </tr>\n",
       "  </tbody>\n",
       "</table>\n",
       "</div>"
      ],
      "text/plain": [
       "               T  dof alternative     p-val          CI95%   cohen-d   BF10  \\\n",
       "T-test -0.672108   58   two-sided  0.504183  [-0.96, 0.48]  0.180058  0.326   \n",
       "\n",
       "           power  \n",
       "T-test  0.101368  "
      ]
     },
     "execution_count": 10,
     "metadata": {},
     "output_type": "execute_result"
    }
   ],
   "source": [
    "pg.ttest(sim_x1, sim_x2, correction=False)"
   ]
  },
  {
   "cell_type": "code",
   "execution_count": 11,
   "id": "55bf28b9",
   "metadata": {
    "ExecuteTime": {
     "end_time": "2021-09-25T12:27:57.047514Z",
     "start_time": "2021-09-25T12:27:57.034273Z"
    }
   },
   "outputs": [
    {
     "data": {
      "text/html": [
       "<div>\n",
       "<style scoped>\n",
       "    .dataframe tbody tr th:only-of-type {\n",
       "        vertical-align: middle;\n",
       "    }\n",
       "\n",
       "    .dataframe tbody tr th {\n",
       "        vertical-align: top;\n",
       "    }\n",
       "\n",
       "    .dataframe thead th {\n",
       "        text-align: right;\n",
       "    }\n",
       "</style>\n",
       "<table border=\"1\" class=\"dataframe\">\n",
       "  <thead>\n",
       "    <tr style=\"text-align: right;\">\n",
       "      <th></th>\n",
       "      <th>T</th>\n",
       "      <th>dof</th>\n",
       "      <th>alternative</th>\n",
       "      <th>p-val</th>\n",
       "      <th>CI95%</th>\n",
       "      <th>cohen-d</th>\n",
       "      <th>BF10</th>\n",
       "      <th>power</th>\n",
       "    </tr>\n",
       "  </thead>\n",
       "  <tbody>\n",
       "    <tr>\n",
       "      <th>T-test</th>\n",
       "      <td>-0.617211</td>\n",
       "      <td>33.887542</td>\n",
       "      <td>two-sided</td>\n",
       "      <td>0.541221</td>\n",
       "      <td>[-1.04, 0.55]</td>\n",
       "      <td>0.180058</td>\n",
       "      <td>0.317</td>\n",
       "      <td>0.101368</td>\n",
       "    </tr>\n",
       "  </tbody>\n",
       "</table>\n",
       "</div>"
      ],
      "text/plain": [
       "               T        dof alternative     p-val          CI95%   cohen-d  \\\n",
       "T-test -0.617211  33.887542   two-sided  0.541221  [-1.04, 0.55]  0.180058   \n",
       "\n",
       "         BF10     power  \n",
       "T-test  0.317  0.101368  "
      ]
     },
     "execution_count": 11,
     "metadata": {},
     "output_type": "execute_result"
    }
   ],
   "source": [
    "pg.ttest(sim_x1, sim_x2, correction=True)"
   ]
  },
  {
   "cell_type": "code",
   "execution_count": 14,
   "id": "b6c3c40f",
   "metadata": {
    "ExecuteTime": {
     "end_time": "2021-09-25T12:30:39.251773Z",
     "start_time": "2021-09-25T12:30:39.230685Z"
    }
   },
   "outputs": [],
   "source": [
    "import statsmodels.stats.weightstats as sm"
   ]
  },
  {
   "cell_type": "code",
   "execution_count": 15,
   "id": "db9a46b9",
   "metadata": {
    "ExecuteTime": {
     "end_time": "2021-09-25T12:30:40.401870Z",
     "start_time": "2021-09-25T12:30:40.391067Z"
    }
   },
   "outputs": [
    {
     "data": {
      "text/plain": [
       "(-0.6721083328844799, 0.5041833854854807, 58.0)"
      ]
     },
     "execution_count": 15,
     "metadata": {},
     "output_type": "execute_result"
    }
   ],
   "source": [
    "sm.ttest_ind(sim_x1, sim_x2, usevar=\"pooled\")"
   ]
  },
  {
   "cell_type": "code",
   "execution_count": 16,
   "id": "07d0cc17",
   "metadata": {
    "ExecuteTime": {
     "end_time": "2021-09-25T12:30:58.332130Z",
     "start_time": "2021-09-25T12:30:58.326297Z"
    }
   },
   "outputs": [
    {
     "data": {
      "text/plain": [
       "(-0.617211214022796, 0.5412207316100013, 33.887542012848286)"
      ]
     },
     "execution_count": 16,
     "metadata": {},
     "output_type": "execute_result"
    }
   ],
   "source": [
    "sm.ttest_ind(sim_x1, sim_x2, usevar=\"unequal\")"
   ]
  },
  {
   "cell_type": "code",
   "execution_count": 17,
   "id": "a0c46121",
   "metadata": {
    "ExecuteTime": {
     "end_time": "2021-09-25T12:33:28.533561Z",
     "start_time": "2021-09-25T12:33:28.526571Z"
    }
   },
   "outputs": [
    {
     "data": {
      "text/plain": [
       "LeveneResult(statistic=1.4135290185914453, pvalue=0.23931640598747292)"
      ]
     },
     "execution_count": 17,
     "metadata": {},
     "output_type": "execute_result"
    }
   ],
   "source": [
    "sp.levene(sim_x1, sim_x2, center='mean')"
   ]
  },
  {
   "cell_type": "code",
   "execution_count": 18,
   "id": "ae5097ba",
   "metadata": {
    "ExecuteTime": {
     "end_time": "2021-09-25T12:36:48.898880Z",
     "start_time": "2021-09-25T12:36:46.586397Z"
    }
   },
   "outputs": [],
   "source": [
    "nSim = 5000\n",
    "pt = []\n",
    "pw = []\n",
    "pl = []\n",
    "for i in range(nSim):\n",
    "    sim_x1 = npr.normal(m1,sd1,n1)\n",
    "    sim_x2 = npr.normal(m2,sd2,n2)\n",
    "    pt.append(sm.ttest_ind(sim_x1, sim_x2, usevar=\"pooled\")[1])\n",
    "    pw.append(sm.ttest_ind(sim_x1, sim_x2, usevar=\"unequal\")[1])\n",
    "    pl.append(sp.levene(sim_x1, sim_x2, center='mean')[1])"
   ]
  },
  {
   "cell_type": "code",
   "execution_count": 19,
   "id": "2c54484f",
   "metadata": {
    "ExecuteTime": {
     "end_time": "2021-09-25T12:37:10.847891Z",
     "start_time": "2021-09-25T12:37:10.844160Z"
    }
   },
   "outputs": [],
   "source": [
    "import matplotlib.pyplot as plt"
   ]
  },
  {
   "cell_type": "code",
   "execution_count": 22,
   "id": "238003a1",
   "metadata": {
    "ExecuteTime": {
     "end_time": "2021-09-25T12:37:40.791066Z",
     "start_time": "2021-09-25T12:37:40.647966Z"
    }
   },
   "outputs": [
    {
     "data": {
      "image/png": "[encoded data removed]",
      "text/plain": [
       "<Figure size 432x288 with 1 Axes>"
      ]
     },
     "metadata": {
      "needs_background": "light"
     },
     "output_type": "display_data"
    }
   ],
   "source": [
    "plt.hist(pt);"
   ]
  },
  {
   "cell_type": "code",
   "execution_count": 23,
   "id": "20851d4b",
   "metadata": {
    "ExecuteTime": {
     "end_time": "2021-09-25T12:37:43.655049Z",
     "start_time": "2021-09-25T12:37:43.381827Z"
    }
   },
   "outputs": [
    {
     "data": {
      "image/png": "[encoded data removed]",
      "text/plain": [
       "<Figure size 432x288 with 1 Axes>"
      ]
     },
     "metadata": {
      "needs_background": "light"
     },
     "output_type": "display_data"
    }
   ],
   "source": [
    "plt.hist(pw);"
   ]
  },
  {
   "cell_type": "code",
   "execution_count": 32,
   "id": "4fb76dbb",
   "metadata": {
    "ExecuteTime": {
     "end_time": "2021-09-25T12:43:12.355289Z",
     "start_time": "2021-09-25T12:43:12.191450Z"
    }
   },
   "outputs": [
    {
     "data": {
      "text/plain": [
       "<matplotlib.lines.Line2D at 0x7f2434d75790>"
      ]
     },
     "execution_count": 32,
     "metadata": {},
     "output_type": "execute_result"
    },
    {
     "data": {
      "image/png": "[encoded data removed]",
      "text/plain": [
       "<Figure size 432x288 with 1 Axes>"
      ]
     },
     "metadata": {
      "needs_background": "light"
     },
     "output_type": "display_data"
    }
   ],
   "source": [
    "plt.scatter(pt,pw, alpha=0.5)\n",
    "plt.xlim([0,0.15])\n",
    "plt.ylim([0,0.15])\n",
    "x = np.linspace(0,1)\n",
    "y = np.linspace(0,1)\n",
    "plt.plot(x,y,color='red')\n",
    "plt.axhline(y=0.05) \n",
    "plt.axvline(x=0.05) "
   ]
  },
  {
   "cell_type": "code",
   "execution_count": 34,
   "id": "2bc5e2ec",
   "metadata": {
    "ExecuteTime": {
     "end_time": "2021-09-25T12:45:17.502344Z",
     "start_time": "2021-09-25T12:45:17.485388Z"
    }
   },
   "outputs": [
    {
     "data": {
      "text/plain": [
       "67.38"
      ]
     },
     "execution_count": 34,
     "metadata": {},
     "output_type": "execute_result"
    }
   ],
   "source": [
    "power_l = sum(np.array(pl)<0.05)/nSim*100\n",
    "power_l"
   ]
  },
  {
   "cell_type": "code",
   "execution_count": 35,
   "id": "e2c05c7a",
   "metadata": {
    "ExecuteTime": {
     "end_time": "2021-09-25T12:47:25.288672Z",
     "start_time": "2021-09-25T12:47:25.265418Z"
    }
   },
   "outputs": [
    {
     "data": {
      "text/plain": [
       "8.4"
      ]
     },
     "execution_count": 35,
     "metadata": {},
     "output_type": "execute_result"
    }
   ],
   "source": [
    "error1_t = sum(np.array(pt)<0.05)/nSim*100\n",
    "error1_t"
   ]
  },
  {
   "cell_type": "code",
   "execution_count": 37,
   "id": "12c8a571",
   "metadata": {
    "ExecuteTime": {
     "end_time": "2021-09-25T12:47:28.668229Z",
     "start_time": "2021-09-25T12:47:28.651982Z"
    }
   },
   "outputs": [
    {
     "data": {
      "text/plain": [
       "5.26"
      ]
     },
     "execution_count": 37,
     "metadata": {},
     "output_type": "execute_result"
    }
   ],
   "source": [
    "error1_w = sum(np.array(pw)<0.05)/nSim*100\n",
    "error1_w"
   ]
  },
  {
   "cell_type": "code",
   "execution_count": null,
   "id": "6d45c502",
   "metadata": {},
   "outputs": [],
   "source": []
  }
 ],
 "metadata": {
  "hide_input": false,
  "kernelspec": {
   "display_name": "R 4.0.2",
   "language": "R",
   "name": "ir"
  },
  "language_info": {
   "codemirror_mode": "r",
   "file_extension": ".r",
   "mimetype": "text/x-r-source",
   "name": "R",
   "pygments_lexer": "r",
   "version": "4.0.4"
  },
  "latex_envs": {
   "LaTeX_envs_menu_present": true,
   "autoclose": true,
   "autocomplete": true,
   "bibliofile": "biblio.bib",
   "cite_by": "apalike",
   "current_citInitial": 1,
   "eqLabelWithNumbers": true,
   "eqNumInitial": 1,
   "hotkeys": {
    "equation": "Ctrl-E",
    "itemize": "Ctrl-I"
   },
   "labels_anchors": false,
   "latex_user_defs": false,
   "report_style_numbering": false,
   "user_envs_cfg": false
  },
  "toc": {
   "base_numbering": 1,
   "nav_menu": {},
   "number_sections": true,
   "sideBar": true,
   "skip_h1_title": false,
   "title_cell": "Table of Contents",
   "title_sidebar": "Contents",
   "toc_cell": false,
   "toc_position": {},
   "toc_section_display": true,
   "toc_window_display": false
  },
  "varInspector": {
   "cols": {
    "lenName": 16,
    "lenType": 16,
    "lenVar": 40
   },
   "kernels_config": {
    "python": {
     "delete_cmd_postfix": "",
     "delete_cmd_prefix": "del ",
     "library": "var_list.py",
     "varRefreshCmd": "print(var_dic_list())"
    },
    "r": {
     "delete_cmd_postfix": ") ",
     "delete_cmd_prefix": "rm(",
     "library": "var_list.r",
     "varRefreshCmd": "cat(var_dic_list()) "
    }
   },
   "types_to_exclude": [
    "module",
    "function",
    "builtin_function_or_method",
    "instance",
    "_Feature"
   ],
   "window_display": false
  }
 },
 "nbformat": 4,
 "nbformat_minor": 5
}
